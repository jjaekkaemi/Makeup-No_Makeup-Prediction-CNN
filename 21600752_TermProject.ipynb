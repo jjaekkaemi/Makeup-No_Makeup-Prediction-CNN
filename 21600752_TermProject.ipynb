{
 "cells": [
  {
   "cell_type": "markdown",
   "metadata": {},
   "source": [
    "# Makeup or No Makeup (Image)"
   ]
  },
  {
   "cell_type": "markdown",
   "metadata": {},
   "source": [
    "Target (Y): Given an image, predict whether the person in the image is wearing makeup"
   ]
  },
  {
   "cell_type": "markdown",
   "metadata": {},
   "source": [
    "1. data 준비\n",
    "\n",
    "필요한 모듈을 먼저 import 합니다.\n",
    "이미지를 다루기 위해 opencv 모듈을 사용합니다."
   ]
  },
  {
   "cell_type": "code",
   "execution_count": 182,
   "metadata": {},
   "outputs": [
    {
     "name": "stdout",
     "output_type": "stream",
     "text": [
      "Requirement already satisfied: opencv-python in /Users/jaekyungha/opt/anaconda3/lib/python3.8/site-packages (4.4.0.46)\r\n",
      "Requirement already satisfied: numpy>=1.17.3 in /Users/jaekyungha/opt/anaconda3/lib/python3.8/site-packages (from opencv-python) (1.19.2)\r\n"
     ]
    }
   ],
   "source": [
    "!pip install opencv-python\n",
    "import numpy as np\n",
    "import cv2\n",
    "import os\n",
    "import random\n",
    "import matplotlib.pyplot as plt\n",
    "import pickle\n",
    "%matplotlib inline"
   ]
  },
  {
   "cell_type": "markdown",
   "metadata": {},
   "source": [
    "학습할 이미지가 들어있는 directory와 이미지 라벨(makeup, no_makeup)을 list에 담습니다."
   ]
  },
  {
   "cell_type": "code",
   "execution_count": 183,
   "metadata": {},
   "outputs": [],
   "source": [
    "DIRECTORY = 'data'\n",
    "CATEGORIES = ['makeup','no_makeup']"
   ]
  },
  {
   "cell_type": "markdown",
   "metadata": {},
   "source": [
    "directory에 폴더 이름을 합쳐 경로를 만들어 이미지와 라벨을 가져옵니다. 이때 이미지들을 resize 60으로 하여 가져옵니다. 이미지가 깨지지 않으면서 크기를 조절하기 위해 적절한 값을 60으로 정했습니다."
   ]
  },
  {
   "cell_type": "code",
   "execution_count": 184,
   "metadata": {},
   "outputs": [],
   "source": [
    "data = []\n",
    "\n",
    "for category in CATEGORIES:\n",
    "    path = os.path.join(DIRECTORY, category)\n",
    "    for img in os.listdir(path):\n",
    "        if img != '.DS_Store':\n",
    "            img_path = os.path.join(path, img)\n",
    "            label = CATEGORIES.index(category)\n",
    "            arr = cv2.imread(img_path, cv2.IMREAD_GRAYSCALE)\n",
    "            new_arr = cv2.resize(arr, (60, 60))\n",
    "            data.append([new_arr, label])"
   ]
  },
  {
   "cell_type": "code",
   "execution_count": 185,
   "metadata": {},
   "outputs": [
    {
     "data": {
      "text/plain": [
       "1506"
      ]
     },
     "execution_count": 185,
     "metadata": {},
     "output_type": "execute_result"
    }
   ],
   "source": [
    "len(data)"
   ]
  },
  {
   "cell_type": "code",
   "execution_count": 186,
   "metadata": {},
   "outputs": [],
   "source": [
    "random.shuffle(data)"
   ]
  },
  {
   "cell_type": "markdown",
   "metadata": {},
   "source": [
    "X에는 이미지 feature를 담고, y에는 feature의 라벨을 담습니다."
   ]
  },
  {
   "cell_type": "code",
   "execution_count": 187,
   "metadata": {},
   "outputs": [],
   "source": [
    "X = []\n",
    "y = []\n",
    "\n",
    "for features, label in data :\n",
    "    X.append(features)\n",
    "    y.append(label)"
   ]
  },
  {
   "cell_type": "code",
   "execution_count": 188,
   "metadata": {},
   "outputs": [],
   "source": [
    "X = np.array(X)\n",
    "y = np.array(y)"
   ]
  },
  {
   "cell_type": "code",
   "execution_count": 189,
   "metadata": {},
   "outputs": [
    {
     "data": {
      "text/plain": [
       "(1506, 60, 60)"
      ]
     },
     "execution_count": 189,
     "metadata": {},
     "output_type": "execute_result"
    }
   ],
   "source": [
    "X.shape"
   ]
  },
  {
   "cell_type": "code",
   "execution_count": 190,
   "metadata": {},
   "outputs": [
    {
     "data": {
      "text/plain": [
       "array([0, 0, 0, ..., 0, 0, 0])"
      ]
     },
     "execution_count": 190,
     "metadata": {},
     "output_type": "execute_result"
    }
   ],
   "source": [
    "y"
   ]
  },
  {
   "cell_type": "markdown",
   "metadata": {},
   "source": [
    "X와 y 변수를 그대로 사용해도 좋지만, 새로운 변수에 옮겨 학습할 예정입니다."
   ]
  },
  {
   "cell_type": "code",
   "execution_count": 191,
   "metadata": {},
   "outputs": [],
   "source": [
    "pickle.dump(X, open('X.pk1', 'wb'))\n",
    "pickle.dump(y, open('y.pk1', 'wb'))"
   ]
  },
  {
   "cell_type": "code",
   "execution_count": 192,
   "metadata": {},
   "outputs": [],
   "source": [
    "X_pk = pickle.load(open('X.pk1', 'rb'))\n",
    "y_pk = pickle.load(open('y.pk1', 'rb'))"
   ]
  },
  {
   "cell_type": "code",
   "execution_count": 193,
   "metadata": {},
   "outputs": [
    {
     "data": {
      "text/plain": [
       "array([[[  6,   9,  21, ...,  94,  93,  94],\n",
       "        [  7,  20,  27, ...,  97,  97,  98],\n",
       "        [ 20,  43,  28, ...,  99,  99,  99],\n",
       "        ...,\n",
       "        [ 95, 104, 133, ...,  87,  84,  84],\n",
       "        [125, 129, 123, ...,  86,  85,  85],\n",
       "        [129, 121, 123, ...,  84,  84,  85]],\n",
       "\n",
       "       [[128, 129, 132, ..., 127, 123, 122],\n",
       "        [128, 130, 133, ..., 128, 125, 123],\n",
       "        [130, 131, 134, ..., 129, 127, 126],\n",
       "        ...,\n",
       "        [133, 135, 137, ..., 132, 129, 128],\n",
       "        [132, 133, 136, ..., 131, 128, 126],\n",
       "        [131, 132, 135, ..., 130, 127, 126]],\n",
       "\n",
       "       [[ 17,  20,  47, ...,  37,  50,  38],\n",
       "        [  7,  16,  39, ...,  36,  43,  46],\n",
       "        [  7,  40,  36, ...,  24,  36,  48],\n",
       "        ...,\n",
       "        [185, 199, 217, ..., 194, 187, 156],\n",
       "        [140, 157, 174, ..., 193, 196, 188],\n",
       "        [119, 112, 125, ..., 192, 205, 195]],\n",
       "\n",
       "       ...,\n",
       "\n",
       "       [[ 16,  24,  40, ...,  14,  13,  10],\n",
       "        [ 26,  39,  77, ...,  17,  14,  13],\n",
       "        [ 33,  49,  64, ...,  19,  15,  15],\n",
       "        ...,\n",
       "        [ 67, 197, 238, ...,   4,   2,   2],\n",
       "        [ 65, 198, 240, ...,   1,   2,   2],\n",
       "        [ 57, 199, 241, ...,   0,   2,   2]],\n",
       "\n",
       "       [[200, 203, 205, ..., 244, 243, 244],\n",
       "        [203, 206, 207, ..., 244, 243, 244],\n",
       "        [204, 206, 204, ..., 244, 242, 243],\n",
       "        ...,\n",
       "        [ 90,   8,   4, ..., 185, 171, 178],\n",
       "        [ 89,   3,   4, ..., 184, 171, 166],\n",
       "        [ 92,   6,   4, ..., 183, 159,  83]],\n",
       "\n",
       "       [[253, 254, 240, ...,  98,  93, 130],\n",
       "        [251, 252, 238, ..., 103,  92, 122],\n",
       "        [252, 237, 197, ..., 185, 160, 118],\n",
       "        ...,\n",
       "        [ 53,  53,  53, ...,  53,  53,  53],\n",
       "        [ 53,  53,  53, ...,  53,  53,  53],\n",
       "        [ 53,  53,  53, ...,  53,  53,  53]]], dtype=uint8)"
      ]
     },
     "execution_count": 193,
     "metadata": {},
     "output_type": "execute_result"
    }
   ],
   "source": [
    "X_pk"
   ]
  },
  {
   "cell_type": "code",
   "execution_count": 194,
   "metadata": {},
   "outputs": [
    {
     "data": {
      "text/plain": [
       "array([0, 0, 0, ..., 0, 0, 0])"
      ]
     },
     "execution_count": 194,
     "metadata": {},
     "output_type": "execute_result"
    }
   ],
   "source": [
    "y_pk"
   ]
  },
  {
   "cell_type": "markdown",
   "metadata": {},
   "source": [
    "We know that the pixel values for each image in the dataset are unsigned integers in the range between no color and full color, or 0 and 255.\n",
    "\n",
    "We do not know the best way to scale the pixel values for modeling, but we know that some scaling will be required.\n",
    "\n",
    "A good starting point is to normalize the pixel values, e.g. rescale them to the range [0,1].\n",
    "Dividing the pixel values by the maximum value."
   ]
  },
  {
   "cell_type": "code",
   "execution_count": 195,
   "metadata": {},
   "outputs": [],
   "source": [
    "X_pk = X_pk/255"
   ]
  },
  {
   "cell_type": "markdown",
   "metadata": {},
   "source": [
    "feature data의 차원을 변경합니다."
   ]
  },
  {
   "cell_type": "code",
   "execution_count": 196,
   "metadata": {},
   "outputs": [],
   "source": [
    "X_pk = X_pk.reshape(-1, 60, 60, 1)"
   ]
  },
  {
   "cell_type": "code",
   "execution_count": 197,
   "metadata": {},
   "outputs": [
    {
     "data": {
      "text/plain": [
       "array([[[[0.02352941],\n",
       "         [0.03529412],\n",
       "         [0.08235294],\n",
       "         ...,\n",
       "         [0.36862745],\n",
       "         [0.36470588],\n",
       "         [0.36862745]],\n",
       "\n",
       "        [[0.02745098],\n",
       "         [0.07843137],\n",
       "         [0.10588235],\n",
       "         ...,\n",
       "         [0.38039216],\n",
       "         [0.38039216],\n",
       "         [0.38431373]],\n",
       "\n",
       "        [[0.07843137],\n",
       "         [0.16862745],\n",
       "         [0.10980392],\n",
       "         ...,\n",
       "         [0.38823529],\n",
       "         [0.38823529],\n",
       "         [0.38823529]],\n",
       "\n",
       "        ...,\n",
       "\n",
       "        [[0.37254902],\n",
       "         [0.40784314],\n",
       "         [0.52156863],\n",
       "         ...,\n",
       "         [0.34117647],\n",
       "         [0.32941176],\n",
       "         [0.32941176]],\n",
       "\n",
       "        [[0.49019608],\n",
       "         [0.50588235],\n",
       "         [0.48235294],\n",
       "         ...,\n",
       "         [0.3372549 ],\n",
       "         [0.33333333],\n",
       "         [0.33333333]],\n",
       "\n",
       "        [[0.50588235],\n",
       "         [0.4745098 ],\n",
       "         [0.48235294],\n",
       "         ...,\n",
       "         [0.32941176],\n",
       "         [0.32941176],\n",
       "         [0.33333333]]],\n",
       "\n",
       "\n",
       "       [[[0.50196078],\n",
       "         [0.50588235],\n",
       "         [0.51764706],\n",
       "         ...,\n",
       "         [0.49803922],\n",
       "         [0.48235294],\n",
       "         [0.47843137]],\n",
       "\n",
       "        [[0.50196078],\n",
       "         [0.50980392],\n",
       "         [0.52156863],\n",
       "         ...,\n",
       "         [0.50196078],\n",
       "         [0.49019608],\n",
       "         [0.48235294]],\n",
       "\n",
       "        [[0.50980392],\n",
       "         [0.51372549],\n",
       "         [0.5254902 ],\n",
       "         ...,\n",
       "         [0.50588235],\n",
       "         [0.49803922],\n",
       "         [0.49411765]],\n",
       "\n",
       "        ...,\n",
       "\n",
       "        [[0.52156863],\n",
       "         [0.52941176],\n",
       "         [0.5372549 ],\n",
       "         ...,\n",
       "         [0.51764706],\n",
       "         [0.50588235],\n",
       "         [0.50196078]],\n",
       "\n",
       "        [[0.51764706],\n",
       "         [0.52156863],\n",
       "         [0.53333333],\n",
       "         ...,\n",
       "         [0.51372549],\n",
       "         [0.50196078],\n",
       "         [0.49411765]],\n",
       "\n",
       "        [[0.51372549],\n",
       "         [0.51764706],\n",
       "         [0.52941176],\n",
       "         ...,\n",
       "         [0.50980392],\n",
       "         [0.49803922],\n",
       "         [0.49411765]]],\n",
       "\n",
       "\n",
       "       [[[0.06666667],\n",
       "         [0.07843137],\n",
       "         [0.18431373],\n",
       "         ...,\n",
       "         [0.14509804],\n",
       "         [0.19607843],\n",
       "         [0.14901961]],\n",
       "\n",
       "        [[0.02745098],\n",
       "         [0.0627451 ],\n",
       "         [0.15294118],\n",
       "         ...,\n",
       "         [0.14117647],\n",
       "         [0.16862745],\n",
       "         [0.18039216]],\n",
       "\n",
       "        [[0.02745098],\n",
       "         [0.15686275],\n",
       "         [0.14117647],\n",
       "         ...,\n",
       "         [0.09411765],\n",
       "         [0.14117647],\n",
       "         [0.18823529]],\n",
       "\n",
       "        ...,\n",
       "\n",
       "        [[0.7254902 ],\n",
       "         [0.78039216],\n",
       "         [0.85098039],\n",
       "         ...,\n",
       "         [0.76078431],\n",
       "         [0.73333333],\n",
       "         [0.61176471]],\n",
       "\n",
       "        [[0.54901961],\n",
       "         [0.61568627],\n",
       "         [0.68235294],\n",
       "         ...,\n",
       "         [0.75686275],\n",
       "         [0.76862745],\n",
       "         [0.7372549 ]],\n",
       "\n",
       "        [[0.46666667],\n",
       "         [0.43921569],\n",
       "         [0.49019608],\n",
       "         ...,\n",
       "         [0.75294118],\n",
       "         [0.80392157],\n",
       "         [0.76470588]]],\n",
       "\n",
       "\n",
       "       ...,\n",
       "\n",
       "\n",
       "       [[[0.0627451 ],\n",
       "         [0.09411765],\n",
       "         [0.15686275],\n",
       "         ...,\n",
       "         [0.05490196],\n",
       "         [0.05098039],\n",
       "         [0.03921569]],\n",
       "\n",
       "        [[0.10196078],\n",
       "         [0.15294118],\n",
       "         [0.30196078],\n",
       "         ...,\n",
       "         [0.06666667],\n",
       "         [0.05490196],\n",
       "         [0.05098039]],\n",
       "\n",
       "        [[0.12941176],\n",
       "         [0.19215686],\n",
       "         [0.25098039],\n",
       "         ...,\n",
       "         [0.0745098 ],\n",
       "         [0.05882353],\n",
       "         [0.05882353]],\n",
       "\n",
       "        ...,\n",
       "\n",
       "        [[0.2627451 ],\n",
       "         [0.77254902],\n",
       "         [0.93333333],\n",
       "         ...,\n",
       "         [0.01568627],\n",
       "         [0.00784314],\n",
       "         [0.00784314]],\n",
       "\n",
       "        [[0.25490196],\n",
       "         [0.77647059],\n",
       "         [0.94117647],\n",
       "         ...,\n",
       "         [0.00392157],\n",
       "         [0.00784314],\n",
       "         [0.00784314]],\n",
       "\n",
       "        [[0.22352941],\n",
       "         [0.78039216],\n",
       "         [0.94509804],\n",
       "         ...,\n",
       "         [0.        ],\n",
       "         [0.00784314],\n",
       "         [0.00784314]]],\n",
       "\n",
       "\n",
       "       [[[0.78431373],\n",
       "         [0.79607843],\n",
       "         [0.80392157],\n",
       "         ...,\n",
       "         [0.95686275],\n",
       "         [0.95294118],\n",
       "         [0.95686275]],\n",
       "\n",
       "        [[0.79607843],\n",
       "         [0.80784314],\n",
       "         [0.81176471],\n",
       "         ...,\n",
       "         [0.95686275],\n",
       "         [0.95294118],\n",
       "         [0.95686275]],\n",
       "\n",
       "        [[0.8       ],\n",
       "         [0.80784314],\n",
       "         [0.8       ],\n",
       "         ...,\n",
       "         [0.95686275],\n",
       "         [0.94901961],\n",
       "         [0.95294118]],\n",
       "\n",
       "        ...,\n",
       "\n",
       "        [[0.35294118],\n",
       "         [0.03137255],\n",
       "         [0.01568627],\n",
       "         ...,\n",
       "         [0.7254902 ],\n",
       "         [0.67058824],\n",
       "         [0.69803922]],\n",
       "\n",
       "        [[0.34901961],\n",
       "         [0.01176471],\n",
       "         [0.01568627],\n",
       "         ...,\n",
       "         [0.72156863],\n",
       "         [0.67058824],\n",
       "         [0.65098039]],\n",
       "\n",
       "        [[0.36078431],\n",
       "         [0.02352941],\n",
       "         [0.01568627],\n",
       "         ...,\n",
       "         [0.71764706],\n",
       "         [0.62352941],\n",
       "         [0.3254902 ]]],\n",
       "\n",
       "\n",
       "       [[[0.99215686],\n",
       "         [0.99607843],\n",
       "         [0.94117647],\n",
       "         ...,\n",
       "         [0.38431373],\n",
       "         [0.36470588],\n",
       "         [0.50980392]],\n",
       "\n",
       "        [[0.98431373],\n",
       "         [0.98823529],\n",
       "         [0.93333333],\n",
       "         ...,\n",
       "         [0.40392157],\n",
       "         [0.36078431],\n",
       "         [0.47843137]],\n",
       "\n",
       "        [[0.98823529],\n",
       "         [0.92941176],\n",
       "         [0.77254902],\n",
       "         ...,\n",
       "         [0.7254902 ],\n",
       "         [0.62745098],\n",
       "         [0.4627451 ]],\n",
       "\n",
       "        ...,\n",
       "\n",
       "        [[0.20784314],\n",
       "         [0.20784314],\n",
       "         [0.20784314],\n",
       "         ...,\n",
       "         [0.20784314],\n",
       "         [0.20784314],\n",
       "         [0.20784314]],\n",
       "\n",
       "        [[0.20784314],\n",
       "         [0.20784314],\n",
       "         [0.20784314],\n",
       "         ...,\n",
       "         [0.20784314],\n",
       "         [0.20784314],\n",
       "         [0.20784314]],\n",
       "\n",
       "        [[0.20784314],\n",
       "         [0.20784314],\n",
       "         [0.20784314],\n",
       "         ...,\n",
       "         [0.20784314],\n",
       "         [0.20784314],\n",
       "         [0.20784314]]]])"
      ]
     },
     "execution_count": 197,
     "metadata": {},
     "output_type": "execute_result"
    }
   ],
   "source": [
    "X_pk"
   ]
  },
  {
   "cell_type": "markdown",
   "metadata": {},
   "source": [
    "2. cnn 모델 만들기"
   ]
  },
  {
   "cell_type": "code",
   "execution_count": 198,
   "metadata": {},
   "outputs": [
    {
     "name": "stdout",
     "output_type": "stream",
     "text": [
      "Requirement already satisfied: keras in /Users/jaekyungha/opt/anaconda3/lib/python3.8/site-packages (2.4.3)\r\n",
      "Requirement already satisfied: h5py in /Users/jaekyungha/opt/anaconda3/lib/python3.8/site-packages (from keras) (2.10.0)\r\n",
      "Requirement already satisfied: numpy>=1.9.1 in /Users/jaekyungha/opt/anaconda3/lib/python3.8/site-packages (from keras) (1.19.2)\r\n",
      "Requirement already satisfied: scipy>=0.14 in /Users/jaekyungha/opt/anaconda3/lib/python3.8/site-packages (from keras) (1.5.2)\r\n",
      "Requirement already satisfied: pyyaml in /Users/jaekyungha/opt/anaconda3/lib/python3.8/site-packages (from keras) (5.3.1)\r\n",
      "Requirement already satisfied: six in /Users/jaekyungha/opt/anaconda3/lib/python3.8/site-packages (from h5py->keras) (1.15.0)\r\n"
     ]
    }
   ],
   "source": [
    "!pip install keras\n",
    "from keras.models import Sequential\n",
    "from keras.layers import Conv2D, MaxPooling2D, Flatten, Dense, Flatten\n",
    "from keras.callbacks import TensorBoard\n",
    "import time"
   ]
  },
  {
   "cell_type": "markdown",
   "metadata": {},
   "source": [
    "convolution 레이어와 pooling 레이어를 가진 cnn 모델 생성\n",
    "\n",
    "prior layer should be flattend to be connected to dense layers\n",
    "\n",
    "dense layer with 50 neurons\n",
    "\n",
    "final layer with 10 neurons to classify the instances"
   ]
  },
  {
   "cell_type": "code",
   "execution_count": 199,
   "metadata": {},
   "outputs": [],
   "source": [
    "model = Sequential()\n",
    "model.add(Conv2D(input_shape = (X_pk.shape[1], X_pk.shape[2], X_pk.shape[3]), filters = 50, kernel_size = (3,3), strides = (1,1), padding = 'same',activation = 'relu'))\n",
    "model.add(MaxPooling2D((2,2)))\n",
    "\n",
    "model.add(Flatten())\n",
    "\n",
    "model.add(Dense(50, activation = 'relu'))\n",
    "\n",
    "model.add(Dense(10, activation = 'softmax'))\n",
    "adam = optimizers.Adam(lr = 0.001)\n",
    "model.compile(optimizer = adam,loss= 'sparse_categorical_crossentropy', metrics=['accuracy'])\n",
    "\n"
   ]
  },
  {
   "cell_type": "markdown",
   "metadata": {},
   "source": [
    "3. 학습하기\n",
    "validationg_split은 train data와 test data를 어떤 비율로 나눌지 설정하는 것이다.\n",
    "batch_size 는\n",
    "epoch는 반복 횟수 이다."
   ]
  },
  {
   "cell_type": "code",
   "execution_count": 200,
   "metadata": {},
   "outputs": [],
   "source": [
    "his = model.fit(X_pk, y_pk, batch_size = 50, validation_split = 0.2, epochs = 100, verbose = 0)"
   ]
  },
  {
   "cell_type": "markdown",
   "metadata": {},
   "source": [
    "4. model 저장"
   ]
  },
  {
   "cell_type": "code",
   "execution_count": 201,
   "metadata": {},
   "outputs": [
    {
     "name": "stdout",
     "output_type": "stream",
     "text": [
      "INFO:tensorflow:Assets written to: makeupornomakeup.model/assets\n"
     ]
    }
   ],
   "source": [
    "model.save('makeupornomakeup.model')"
   ]
  },
  {
   "cell_type": "markdown",
   "metadata": {},
   "source": [
    "5. 학습 결과 검증"
   ]
  },
  {
   "cell_type": "code",
   "execution_count": 210,
   "metadata": {},
   "outputs": [
    {
     "data": {
      "image/png": "[encoded data removed]",
      "text/plain": [
       "<Figure size 432x288 with 1 Axes>"
      ]
     },
     "metadata": {
      "needs_background": "light"
     },
     "output_type": "display_data"
    },
    {
     "name": "stdout",
     "output_type": "stream",
     "text": [
      "48/48 [==============================] - 1s 12ms/step - loss: 0.3421 - accuracy: 0.9197\n",
      "Test accuracy:  0.9196547269821167\n"
     ]
    }
   ],
   "source": [
    "\n",
    "plt.plot(his.history['accuracy'])\n",
    "plt.plot(his.history['val_accuracy'])\n",
    "plt.legend(['training', 'validation'], loc = 'upper left')\n",
    "plt.show()\n",
    "\n",
    "results = model.evaluate(X_pk, y_pk)\n",
    "print('Test accuracy: ', results[1])"
   ]
  },
  {
   "cell_type": "markdown",
   "metadata": {},
   "source": [
    "6. sample 이미지로 예측 확인하기"
   ]
  },
  {
   "cell_type": "code",
   "execution_count": 211,
   "metadata": {},
   "outputs": [
    {
     "name": "stdout",
     "output_type": "stream",
     "text": [
      "data/sample/nomakeup3.jpeg\n",
      "makeup\n",
      "data/sample/nomakeup2.jpg\n",
      "no_makeup\n",
      "data/sample/nomakeup1.jpg\n",
      "no_makeup\n",
      "data/sample/makeup2.jpg\n",
      "makeup\n",
      "data/sample/makeup3.jpg\n",
      "makeup\n",
      "data/sample/makeup1.jpg\n",
      "makeup\n"
     ]
    }
   ],
   "source": [
    "import keras\n",
    "def image(path):\n",
    "    img = cv2.imread(path, cv2.IMREAD_GRAYSCALE)\n",
    "    new_arr = cv2.resize(img, (60, 60))\n",
    "    new_arr = np.array(new_arr)\n",
    "    new_arr = new_arr.reshape(-1, 60, 60, 1)\n",
    "    return new_arr\n",
    "\n",
    "predic_list = []\n",
    "for img in os.listdir('data/sample') :\n",
    "    img_path = os.path.join('data/sample', img)\n",
    "    if img != '.DS_Store':\n",
    "        predic_list.append(img_path)\n",
    "for i in range(len(predic_list)) :\n",
    "    prediction = model.predict([image(predic_list[i])])\n",
    "    print(predic_list[i])\n",
    "    print(CATEGORIES[prediction.argmax()])"
   ]
  },
  {
   "cell_type": "markdown",
   "metadata": {},
   "source": [
    "7. 깊은 cnn 구조 생성 및 학습, 검증 결과 확인 \n",
    "\n",
    "convolution 레이어와 pooling 레이어를 늘린다."
   ]
  },
  {
   "cell_type": "code",
   "execution_count": 230,
   "metadata": {},
   "outputs": [],
   "source": [
    "model2 = Sequential()\n",
    "\n",
    "model2.add(Conv2D(input_shape = (X_pk.shape[1], X_pk.shape[2], X_pk.shape[3]), filters = 50, kernel_size = (3,3), strides = (1,1), padding = 'same',activation = 'relu'))\n",
    "model2.add(Conv2D(filters = 50, kernel_size = (3,3), strides = (1,1), padding = 'same',activation = 'relu'))\n",
    "model2.add(MaxPooling2D(pool_size = (2,2)))\n",
    "model2.add(Conv2D(filters = 50, kernel_size = (3,3), strides = (1,1), padding = 'same',activation = 'relu'))\n",
    "model2.add(Conv2D(filters = 50, kernel_size = (3,3), strides = (1,1), padding = 'same',activation = 'relu'))\n",
    "model2.add(MaxPooling2D(pool_size = (2,2)))\n",
    "model2.add(Conv2D(filters = 50, kernel_size = (3,3), strides = (1,1), padding = 'same',activation = 'relu'))\n",
    "model2.add(Conv2D(filters = 50, kernel_size = (3,3), strides = (1,1), padding = 'same',activation = 'relu'))\n",
    "model2.add(MaxPooling2D(pool_size = (2,2)))\n",
    "\n",
    "\n",
    "model2.add(Flatten())\n",
    "model2.add(Dense(50, activation = 'relu'))\n",
    "model2.add(Dense(10, activation = 'softmax'))\n",
    "\n",
    "adam = optimizers.Adam(lr = 0.001)\n",
    "model2.compile(loss = 'sparse_categorical_crossentropy', optimizer = adam, metrics = ['accuracy'])\n"
   ]
  },
  {
   "cell_type": "code",
   "execution_count": 231,
   "metadata": {},
   "outputs": [],
   "source": [
    "his2 = model2.fit(X_pk, y_pk, batch_size = 50, validation_split = 0.2, epochs = 100, verbose = 0)\n"
   ]
  },
  {
   "cell_type": "code",
   "execution_count": 232,
   "metadata": {
    "scrolled": true
   },
   "outputs": [
    {
     "data": {
      "image/png": "[encoded data removed]",
      "text/plain": [
       "<Figure size 432x288 with 1 Axes>"
      ]
     },
     "metadata": {
      "needs_background": "light"
     },
     "output_type": "display_data"
    },
    {
     "name": "stdout",
     "output_type": "stream",
     "text": [
      "48/48 [==============================] - 6s 124ms/step - loss: 0.4098 - accuracy: 0.9137\n",
      "Test accuracy:  0.9136786460876465\n"
     ]
    }
   ],
   "source": [
    "\n",
    "plt.plot(his2.history['accuracy'])\n",
    "plt.plot(his2.history['val_accuracy'])\n",
    "plt.legend(['training', 'validation'], loc = 'upper left')\n",
    "plt.show()\n",
    "\n",
    "results2 = model2.evaluate(X_pk, y_pk)\n",
    "print('Test accuracy: ', results2[1])"
   ]
  },
  {
   "cell_type": "code",
   "execution_count": null,
   "metadata": {},
   "outputs": [],
   "source": []
  }
 ],
 "metadata": {
  "kernelspec": {
   "display_name": "Python 3",
   "language": "python",
   "name": "python3"
  },
  "language_info": {
   "codemirror_mode": {
    "name": "ipython",
    "version": 3
   },
   "file_extension": ".py",
   "mimetype": "text/x-python",
   "name": "python",
   "nbconvert_exporter": "python",
   "pygments_lexer": "ipython3",
   "version": "3.8.5"
  }
 },
 "nbformat": 4,
 "nbformat_minor": 4
}
